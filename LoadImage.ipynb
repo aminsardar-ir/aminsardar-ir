{
  "nbformat": 4,
  "nbformat_minor": 0,
  "metadata": {
    "colab": {
      "name": "Untitled1.ipynb",
      "private_outputs": true,
      "provenance": [],
      "mount_file_id": "1k0uUoG4rFY4Vu1Wv7OPp3tvbJBhifkFW",
      "authorship_tag": "ABX9TyPjUK/wBywK9emCDbkhZD28",
      "include_colab_link": true
    },
    "kernelspec": {
      "name": "python3",
      "display_name": "Python 3"
    },
    "language_info": {
      "name": "python"
    }
  },
  "cells": [
    {
      "cell_type": "markdown",
      "metadata": {
        "id": "view-in-github",
        "colab_type": "text"
      },
      "source": [
        "<a href=\"https://colab.research.google.com/github/aminsardar-ir/aminsardar-ir/blob/main/LoadImage.ipynb\" target=\"_parent\"><img src=\"https://colab.research.google.com/assets/colab-badge.svg\" alt=\"Open In Colab\"/></a>"
      ]
    },
    {
      "cell_type": "code",
      "execution_count": null,
      "metadata": {
        "id": "US7d4SAM18dO"
      },
      "outputs": [],
      "source": [
        "from google.colab import drive\n",
        "drive.mount('/content/drive')"
      ]
    },
    {
      "cell_type": "code",
      "source": [
        "pathTrain='/content/drive/MyDrive/NewP3te/train/'"
      ],
      "metadata": {
        "id": "bHrZkDJa2QGN"
      },
      "execution_count": null,
      "outputs": []
    },
    {
      "cell_type": "code",
      "source": [
        "import os\n",
        "all_images  = []\n",
        "y_train     = []\n",
        "subjects    = os.listdir(pathTrain)\n",
        "num_classes = len(subjects) \n",
        "print(num_classes)"
      ],
      "metadata": {
        "id": "Bz-p7Nb82jea"
      },
      "execution_count": null,
      "outputs": []
    },
    {
      "cell_type": "code",
      "source": [
        "import cv2\n",
        "for number1 in range(0, num_classes):\n",
        "    print(number1)\n",
        "    path = (pathTrain + subjects[number1] + '/')\n",
        "    files = os.listdir(path)\n",
        "    numberOfsamples = len(files)\n",
        "    for number2 in range(0, numberOfsamples):\n",
        "        pathImg = path + files[number2]\n",
        "        img = cv2.imread(pathImg)\n",
        "        img = img.reshape(50, 50, 3)\n",
        "        all_images.append(img)\n",
        "        y_train.append(int(number1))\n"
      ],
      "metadata": {
        "id": "qlmwyM5M3HR9"
      },
      "execution_count": null,
      "outputs": []
    },
    {
      "cell_type": "code",
      "source": [
        "import numpy as np\n",
        "X_train = np.array(all_images)\n",
        "y_train = np.array(y_train, dtype=np.uint16) \n",
        "print(X_train.shape)\n",
        "import matplotlib.pyplot as plt\n",
        "plt.imshow(X_train[2000])"
      ],
      "metadata": {
        "id": "v7BAtQsL3-UT"
      },
      "execution_count": null,
      "outputs": []
    },
    {
      "cell_type": "code",
      "source": [
        "pathTest='/content/drive/MyDrive/NewP3te/test/'"
      ],
      "metadata": {
        "id": "s8lMxexi6lBE"
      },
      "execution_count": null,
      "outputs": []
    },
    {
      "cell_type": "code",
      "source": [
        "all_images  = []\n",
        "y_test     = []\n",
        "subjects    = os.listdir(pathTest)\n",
        "num_classes = len(subjects) \n",
        "print(num_classes)"
      ],
      "metadata": {
        "id": "-c498VFD6sKF"
      },
      "execution_count": null,
      "outputs": []
    },
    {
      "cell_type": "code",
      "source": [
        "for number1 in range(0, num_classes):\n",
        "    print(number1)\n",
        "    path = (pathTest + subjects[number1] + '/')\n",
        "    files = os.listdir(path)\n",
        "    numberOfsamples = len(files)\n",
        "    for number2 in range(0, numberOfsamples):\n",
        "        pathImg = path + files[number2]\n",
        "        img = cv2.imread(pathImg)\n",
        "        img = img.reshape(50, 50, 3)\n",
        "        all_images.append(img)\n",
        "        y_test.append(int(number1))"
      ],
      "metadata": {
        "id": "5hAQOxXC64Rt"
      },
      "execution_count": null,
      "outputs": []
    },
    {
      "cell_type": "code",
      "source": [
        "X_test = np.array(all_images)\n",
        "y_test = np.array(y_test, dtype=np.uint16) \n",
        "print(X_test.shape)\n",
        "import matplotlib.pyplot as plt\n",
        "plt.imshow(X_test[200])"
      ],
      "metadata": {
        "id": "sAPUbipV7Bsk"
      },
      "execution_count": null,
      "outputs": []
    },
    {
      "cell_type": "code",
      "source": [
        "from tensorflow.keras.utils import to_categorical\n",
        "Y_train = to_categorical(y_train, num_classes)\n",
        "Y_test  = to_categorical(y_test, num_classes)\n",
        "\n",
        "X_train = X_train.astype('float32')\n",
        "X_test  = X_test.astype('float32')\n",
        "\n",
        "X_train   /= 255.\n",
        "X_test    /= 255."
      ],
      "metadata": {
        "id": "fXeh9Jxk7Qgh"
      },
      "execution_count": null,
      "outputs": []
    },
    {
      "cell_type": "code",
      "source": [
        "import tensorflow as tf\n",
        "\n",
        "input = tf.keras.Input(shape=(50, 50,3))\n",
        "model=tf.keras.applications.DenseNet121(weights='imagenet',include_top = False,input_tensor = input)\n",
        "# Finally, we add a classification layer.\n",
        "gap = tf.keras.layers.GlobalMaxPooling2D()(model.output)\n",
        "\n",
        "output = tf.keras.layers.Dense(2, activation='softmax', use_bias=True)(gap)\n",
        "\n",
        "# bind all\n",
        "model = tf.keras.Model(model.input, output)\n",
        "model.compile(loss='categorical_crossentropy',\n",
        "              optimizer='adam',\n",
        "              metrics=['accuracy'])"
      ],
      "metadata": {
        "id": "9fPdu81v7inq"
      },
      "execution_count": null,
      "outputs": []
    },
    {
      "cell_type": "code",
      "source": [
        "model.fit(X_train, Y_train, \n",
        "          validation_data=(X_test, Y_test),\n",
        "          epochs=1, batch_size=32)"
      ],
      "metadata": {
        "id": "qfzWBdIQ8ifK"
      },
      "execution_count": null,
      "outputs": []
    },
    {
      "cell_type": "code",
      "source": [
        "model.save('/content/drive/MyDrive/saveModel/model.h5') "
      ],
      "metadata": {
        "id": "q60Mj4Tr9yNi"
      },
      "execution_count": null,
      "outputs": []
    },
    {
      "cell_type": "code",
      "source": [
        "new_model =tf.keras.models.load_model('/content/drive/MyDrive/saveModel/model.h5')\n",
        "new_model.summary()"
      ],
      "metadata": {
        "id": "F7zZKN7a-Cld"
      },
      "execution_count": null,
      "outputs": []
    },
    {
      "cell_type": "code",
      "source": [
        "prediction=new_model.predict(X_test[:,:,:,:])\n",
        "print(prediction)"
      ],
      "metadata": {
        "id": "4NnmsDOf-Rh9"
      },
      "execution_count": null,
      "outputs": []
    }
  ]
}