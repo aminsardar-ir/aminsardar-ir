{
  "nbformat": 4,
  "nbformat_minor": 0,
  "metadata": {
    "colab": {
      "name": "Untitled0.ipynb",
      "private_outputs": true,
      "provenance": [],
      "authorship_tag": "ABX9TyPaxX36qU5Mb/lMD1tGRbu7",
      "include_colab_link": true
    },
    "kernelspec": {
      "name": "python3",
      "display_name": "Python 3"
    },
    "language_info": {
      "name": "python"
    }
  },
  "cells": [
    {
      "cell_type": "markdown",
      "metadata": {
        "id": "view-in-github",
        "colab_type": "text"
      },
      "source": [
        "<a href=\"https://colab.research.google.com/github/aminsardar-ir/aminsardar-ir/blob/main/MnistLoad.ipynb\" target=\"_parent\"><img src=\"https://colab.research.google.com/assets/colab-badge.svg\" alt=\"Open In Colab\"/></a>"
      ]
    },
    {
      "cell_type": "markdown",
      "metadata": {
        "id": "EV9NfWaT-iT_"
      },
      "source": [
        "Minst Load DataBase"
      ]
    },
    {
      "cell_type": "markdown",
      "metadata": {
        "id": "GjOfjzO--mgX"
      },
      "source": [
        "Library definition"
      ]
    },
    {
      "cell_type": "code",
      "metadata": {
        "id": "48uxoAFO-xc2"
      },
      "source": [
        "import numpy as np\n",
        "from tensorflow.keras.datasets import mnist\n",
        "import matplotlib.pyplot as plt\n",
        "import random"
      ],
      "execution_count": null,
      "outputs": []
    },
    {
      "cell_type": "markdown",
      "metadata": {
        "id": "6N5h30Cq-4nW"
      },
      "source": [
        "MNIST dataset parameters"
      ]
    },
    {
      "cell_type": "code",
      "metadata": {
        "id": "Jb6D4wpu-7AP"
      },
      "source": [
        "num_classes = 10 # total classes (0-9 digits).\n",
        "num_features = 784 # data features (img shape: 28*28)."
      ],
      "execution_count": null,
      "outputs": []
    },
    {
      "cell_type": "markdown",
      "metadata": {
        "id": "XMORUbgX_Hce"
      },
      "source": [
        "Load DataBase"
      ]
    },
    {
      "cell_type": "code",
      "metadata": {
        "id": "CVhh053q_J5D"
      },
      "source": [
        "(x_train, y_train), (x_test, y_test) = mnist.load_data()\n",
        "# Convert to float32.\n",
        "x_train, x_test = np.array(x_train, np.float32), np.array(x_test, np.float32)\n",
        "\n",
        "print(x_train.shape)"
      ],
      "execution_count": null,
      "outputs": []
    },
    {
      "cell_type": "markdown",
      "metadata": {
        "id": "-hZkBAg1_l3W"
      },
      "source": [
        "Show Image"
      ]
    },
    {
      "cell_type": "code",
      "metadata": {
        "id": "Gntew4mq_ncb"
      },
      "source": [
        "num = random.randint(0, len(x_test))\n",
        "print(num)\n",
        "plt.imshow(x_test[num])"
      ],
      "execution_count": null,
      "outputs": []
    },
    {
      "cell_type": "markdown",
      "metadata": {
        "id": "gdanibiuAnVj"
      },
      "source": [
        "images to 1-D vector of 784 features (28*28)"
      ]
    },
    {
      "cell_type": "code",
      "metadata": {
        "id": "8ZUKnXEVArMf"
      },
      "source": [
        "x_train, x_test = x_train.reshape([-1, num_features]), x_test.reshape([-1, num_features])\n",
        "print(x_train.shape)"
      ],
      "execution_count": null,
      "outputs": []
    },
    {
      "cell_type": "markdown",
      "metadata": {
        "id": "ZLo-hH4jA2aK"
      },
      "source": [
        "Normalize images value from [0, 255] to [0, 1]."
      ]
    },
    {
      "cell_type": "code",
      "metadata": {
        "id": "7Am45pxMA3B4"
      },
      "source": [
        "x_train, x_test = x_train / 255., x_test / 255."
      ],
      "execution_count": null,
      "outputs": []
    }
  ]
}